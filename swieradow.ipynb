{
 "cells": [
  {
   "cell_type": "code",
   "execution_count": 57,
   "metadata": {},
   "outputs": [],
   "source": [
    "#importy\n",
    "import sys\n",
    "import arcpy"
   ]
  },
  {
   "cell_type": "code",
   "execution_count": 58,
   "metadata": {},
   "outputs": [],
   "source": [
    "# włączenie nadpisywania plików\n",
    "arcpy.env.overwriteOutput=True"
   ]
  },
  {
   "cell_type": "code",
   "execution_count": 59,
   "metadata": {},
   "outputs": [
    {
     "data": {
      "text/plain": [
       "'CheckedOut'"
      ]
     },
     "execution_count": 59,
     "metadata": {},
     "output_type": "execute_result"
    }
   ],
   "source": [
    "# sprawdzanie rozszerzeń\n",
    "arcpy.CheckOutExtension(\"Spatial\")\n",
    "arcpy.CheckOutExtension(\"3D\")"
   ]
  },
  {
   "cell_type": "code",
   "execution_count": 60,
   "metadata": {},
   "outputs": [],
   "source": [
    "# ustawienia środowiska pracy\n",
    "arcpy.env.workspace  = r'C:\\Users\\weron\\Desktop\\studia\\5sem\\analiza_przestrzenna\\swieradow\\new\\result'\n",
    "\n",
    "# ustawienie obszaru pracy (prostokąta otaczającego)\n",
    "arcpy.env.extent = r'C:\\Users\\weron\\Desktop\\studia\\5sem\\analiza_przestrzenna\\swieradow\\MyProject\\buffer.shp'\n",
    "\n",
    "# ustawienie układu współrzędnych\n",
    "arcpy.env.outputCoordinateSystem = arcpy.SpatialReference(\"ETRS 1989 Poland CS92\")\n",
    "\n",
    "# ustawienie wielkości komórki\n",
    "arcpy.env.cellSize = 1"
   ]
  },
  {
   "cell_type": "markdown",
   "metadata": {},
   "source": [
    "wczytanie warstw"
   ]
  },
  {
   "cell_type": "code",
   "execution_count": 61,
   "metadata": {},
   "outputs": [],
   "source": [
    "buf = \"buffer\"\n",
    "jeziora = \"jeziora\"\n",
    "gazociag = \"gazociag\"\n",
    "rzeki = \"rzeki\"\n",
    "drogi = \"drogi\"\n",
    "tory = \"tory\"\n",
    "lasy_temp = \"lasy\"\n",
    "budynki_temp = \"budynki\"\n",
    "granica = \"granica_swieradow\"\n",
    "raster = \"gmina_swieradow_raster\"\n",
    "gleby='gleby_gm_swieradow'\n",
    "dzialki_equal = 'dzialki_swieradow_equal'\n",
    "dzialki_diff = 'dzialki_swieradow_diff'"
   ]
  },
  {
   "cell_type": "markdown",
   "metadata": {},
   "source": [
    "selekcja potrzebnych warstw do kryteriów"
   ]
  },
  {
   "cell_type": "code",
   "execution_count": 62,
   "metadata": {},
   "outputs": [
    {
     "data": {
      "text/html": [
       "<div class='gpresult'><h2>Messages</h2><div id='messages' data-messages='[\"Start Time: środa, 11 stycznia 2023 15:09:13\",\"Succeeded at środa, 11 stycznia 2023 15:09:13 (Elapsed Time: 0,04 seconds)\"]' data-show='true'><div id = 'default' /></div></div>"
      ],
      "text/plain": [
       "<Result 'hotele_selected_Layer5'>"
      ]
     },
     "execution_count": 62,
     "metadata": {},
     "output_type": "execute_result"
    }
   ],
   "source": [
    "# wylaczenie dodawania warstw\n",
    "arcpy.env.addOutputsToMap = False\n",
    "#selekcja budynkow mieszkalnych przy pomocy atrubutu X_KOD\n",
    "budynki = arcpy.management.SelectLayerByAttribute(budynki_temp, \"NEW_SELECTION\", \"X_KOD IN ('BUBD02','BUBD03', 'BUBD04')\", None)\n",
    "arcpy.management.CopyFeatures(budynki, r\"C:\\Users\\weron\\Desktop\\studia\\5sem\\analiza_przestrzenna\\swieradow\\new\\result\\budynki_mieszkalne_selected\", '', None, None, None)\n",
    "budynki_mieszkalne = 'budynki_mieszkalne_selected'\n",
    "arcpy.SelectLayerByAttribute_management(budynki, \"CLEAR_SELECTION\")\n",
    "\n",
    "# selekcja lasow i zagajnikow przy pomocy atrubutu RODZAJ\n",
    "lasy = arcpy.management.SelectLayerByAttribute(lasy_temp, \"NEW_SELECTION\", \"RODZAJ IN ('las', 'zagajnik')\", None)\n",
    "arcpy.management.CopyFeatures(lasy, r\"C:\\Users\\weron\\Desktop\\studia\\5sem\\analiza_przestrzenna\\swieradow\\new\\result\\lasy_selected\", '', None, None, None)\n",
    "lasy = 'lasy_selected'\n",
    "arcpy.SelectLayerByAttribute_management(lasy, \"CLEAR_SELECTION\")\n",
    "\n",
    "# selekcja hoteli przy pomocy atrubutu X_KOD\n",
    "hotele = arcpy.management.SelectLayerByAttribute(budynki_temp, \"NEW_SELECTION\", \"X_KOD IN ('BUBD05', 'BUBD06')\", None)\n",
    "arcpy.management.CopyFeatures(hotele, r\"C:\\Users\\weron\\Desktop\\studia\\5sem\\analiza_przestrzenna\\swieradow\\new\\result\\hotele_selected\", '', None, None, None)\n",
    "hotele = 'hotele_selected'\n",
    "arcpy.SelectLayerByAttribute_management(hotele, \"CLEAR_SELECTION\")"
   ]
  },
  {
   "cell_type": "markdown",
   "metadata": {},
   "source": [
    "Kryterium nr. 1 / odległość od kokurencji min. 400 m / im dalej tym korzystniej "
   ]
  },
  {
   "cell_type": "code",
   "execution_count": 63,
   "metadata": {},
   "outputs": [],
   "source": [
    "# obliczenie odleglosci euklidesowej\n",
    "distance = arcpy.sa.EucDistance(hotele)"
   ]
  },
  {
   "cell_type": "code",
   "execution_count": 64,
   "metadata": {},
   "outputs": [],
   "source": [
    "# wycięcie terenu gminy z prostokata otaczajacego\n",
    "extracted_by_mask = arcpy.sa.ExtractByMask(distance, granica, \"INSIDE\")"
   ]
  },
  {
   "cell_type": "code",
   "execution_count": 65,
   "metadata": {},
   "outputs": [],
   "source": [
    "# transformacja skali rastra na [0:1]\n",
    "arcpy.env.addOutputsToMap = False\n",
    "result1 = arcpy.sa.FuzzyMembership(extracted_by_mask, arcpy.sa.FuzzyLinear(380, 420))\n",
    "result1.save(r'C:\\Users\\weron\\Desktop\\studia\\5sem\\analiza_przestrzenna\\swieradow\\new\\result\\kryt_1.tif')"
   ]
  },
  {
   "cell_type": "markdown",
   "metadata": {},
   "source": [
    "Kryterium nr. 2 / odległość od budynków mieszkalnych od 25m do 150m ma watość 1 a wraz z oddalaniem spada wartość "
   ]
  },
  {
   "cell_type": "code",
   "execution_count": 66,
   "metadata": {},
   "outputs": [],
   "source": [
    "arcpy.env.addOutputsToMap = False\n",
    "# obliczenie odleglosci euklidesowej\n",
    "distance2 = arcpy.sa.EucDistance(budynki_mieszkalne)"
   ]
  },
  {
   "cell_type": "code",
   "execution_count": 67,
   "metadata": {},
   "outputs": [],
   "source": [
    "# wycięcie terenu gminy z prostokata otaczajacego\n",
    "extracted_by_mask2 = arcpy.sa.ExtractByMask(distance2, granica, \"INSIDE\")"
   ]
  },
  {
   "cell_type": "code",
   "execution_count": 68,
   "metadata": {},
   "outputs": [],
   "source": [
    "# transformacja skali rastra na [0:1]\n",
    "result2_vol1 = arcpy.sa.FuzzyMembership(extracted_by_mask2, arcpy.sa.FuzzyLinear(5, 25))\n",
    "result2_vol2 = arcpy.sa.FuzzyMembership(extracted_by_mask2, arcpy.sa.FuzzyLinear(180, 150))\n",
    "arcpy.env.addOutputsToMap = False\n",
    "result2 = result2_vol1 * result2_vol2\n",
    "result2.save(r'C:\\Users\\weron\\Desktop\\studia\\5sem\\analiza_przestrzenna\\swieradow\\new\\result\\kryt_2.tif')"
   ]
  },
  {
   "cell_type": "markdown",
   "metadata": {},
   "source": [
    "Kryterium nr. 3 / odległość od istniejących dróg / od 15 do 100m ma wartość 1 a wraz z oddalaniem wartość spada do 0"
   ]
  },
  {
   "cell_type": "code",
   "execution_count": 69,
   "metadata": {},
   "outputs": [],
   "source": [
    "arcpy.env.addOutputsToMap = False\n",
    "# obliczenie odleglosci euklidesowej\n",
    "distance3 = arcpy.sa.EucDistance(drogi)"
   ]
  },
  {
   "cell_type": "code",
   "execution_count": 70,
   "metadata": {},
   "outputs": [],
   "source": [
    "# wyciecie terenu gminy z prostokata otaczajacego\n",
    "extracted_by_mask3 = arcpy.sa.ExtractByMask(distance3, granica, \"INSIDE\")"
   ]
  },
  {
   "cell_type": "code",
   "execution_count": 71,
   "metadata": {},
   "outputs": [],
   "source": [
    "# transformacja skali rastra na [0:1]\n",
    "result3_vol1 = arcpy.sa.FuzzyMembership(extracted_by_mask3, arcpy.sa.FuzzyLinear(5, 15))\n",
    "result3_vol2 = arcpy.sa.FuzzyMembership(extracted_by_mask3, arcpy.sa.FuzzyLinear(130, 100))\n",
    "arcpy.env.addOutputsToMap = False\n",
    "result3 = result3_vol1 * result3_vol2\n",
    "result3.save(r'C:\\Users\\weron\\Desktop\\studia\\5sem\\analiza_przestrzenna\\swieradow\\new\\result\\kryt_3.tif')"
   ]
  },
  {
   "cell_type": "markdown",
   "metadata": {},
   "source": [
    "Kryterium nr. 4 / odległość od rzek i zbiorników wodnych / nieprzekraczalna strefa ochronna poniżej 20m ma wartość 1 a wraz z oddalaniem wartość spada do 0"
   ]
  },
  {
   "cell_type": "code",
   "execution_count": 72,
   "metadata": {},
   "outputs": [],
   "source": [
    "arcpy.env.addOutputsToMap = False\n",
    "# obliczenie odleglosci euklidesowej\n",
    "distance4_jez = arcpy.sa.EucDistance(jeziora)\n",
    "distance4_rze = arcpy.sa.EucDistance(rzeki)"
   ]
  },
  {
   "cell_type": "code",
   "execution_count": 73,
   "metadata": {},
   "outputs": [],
   "source": [
    "# wyciecie terenu gminy z prostokata otaczajacego\n",
    "extracted_by_mask4_jez = arcpy.sa.ExtractByMask(distance4_jez, granica, \"INSIDE\")\n",
    "extracted_by_mask4_rze = arcpy.sa.ExtractByMask(distance4_rze, granica, \"INSIDE\")\n",
    "max_value_jez = extracted_by_mask4_jez.maximum * 1.1\n",
    "max_value_rze = extracted_by_mask4_rze.maximum * 1.1"
   ]
  },
  {
   "cell_type": "code",
   "execution_count": 74,
   "metadata": {},
   "outputs": [],
   "source": [
    "arcpy.env.addOutputsToMap =False\n",
    "# kryterium ostre\n",
    "rzeki_ostre = extracted_by_mask4_rze > 20\n",
    "jeziora_ostre = extracted_by_mask4_jez > 20\n",
    "rzeki_ostre.save(r'C:\\Users\\weron\\Desktop\\studia\\5sem\\analiza_przestrzenna\\swieradow\\new\\result\\kryt_4_rzeki_ostre.tif')\n",
    "jeziora_ostre.save(r'C:\\Users\\weron\\Desktop\\studia\\5sem\\analiza_przestrzenna\\swieradow\\new\\result\\kryt_4_jeziora_ostre.tif')\n"
   ]
  },
  {
   "cell_type": "code",
   "execution_count": 75,
   "metadata": {},
   "outputs": [],
   "source": [
    "arcpy.env.addOutputsToMap = False\n",
    "# kryterium rozmyte\n",
    "#transformacja skali rastra na [0:1]\n",
    "result4_1_jez = arcpy.sa.FuzzyMembership(extracted_by_mask4_jez, arcpy.sa.FuzzyLinear(20, 20.1))\n",
    "result4_1_rze = arcpy.sa.FuzzyMembership(extracted_by_mask4_rze, arcpy.sa.FuzzyLinear(20, 20.1))\n",
    "result4_jez = arcpy.sa.FuzzyMembership(extracted_by_mask4_jez, arcpy.sa.FuzzyLinear(max_value_jez, 20))\n",
    "result4_rze = arcpy.sa.FuzzyMembership(extracted_by_mask4_rze, arcpy.sa.FuzzyLinear(max_value_rze, 20))\n",
    "arcpy.env.addOutputsToMap = False\n",
    "result4_rozmyty_jez = result4_jez * result4_1_jez\n",
    "result4_rozmyty_rze = result4_1_rze * result4_rze\n",
    "result4_rozmyty_jez.save(r'C:\\Users\\weron\\Desktop\\studia\\5sem\\analiza_przestrzenna\\swieradow\\new\\result\\kryt_4r_jeziora.tif')\n",
    "result4_rozmyty_rze.save(r'C:\\Users\\weron\\Desktop\\studia\\5sem\\analiza_przestrzenna\\swieradow\\new\\result\\kryt_4r_rzeki.tif')"
   ]
  },
  {
   "cell_type": "markdown",
   "metadata": {},
   "source": [
    "Kryterium nr. 5 / pokrycie terenu / nie w lesie / selekcja z bdotu lasów i zagajników / jeśli teren znajduje się w lesie ma wartość 0 jeśli nie to ma wartość 1\n"
   ]
  },
  {
   "cell_type": "code",
   "execution_count": 76,
   "metadata": {},
   "outputs": [],
   "source": [
    "arcpy.env.addOutputsToMap = False\n",
    "# obliczenie odleglosci euklidesowej\n",
    "distance5 = arcpy.sa.EucDistance(lasy)"
   ]
  },
  {
   "cell_type": "code",
   "execution_count": 77,
   "metadata": {},
   "outputs": [],
   "source": [
    "# wyciecie terenu gminy z prostokata otaczajacego\n",
    "extracted_by_mask5 = arcpy.sa.ExtractByMask(distance5, granica, \"INSIDE\")"
   ]
  },
  {
   "cell_type": "code",
   "execution_count": 78,
   "metadata": {},
   "outputs": [],
   "source": [
    "# transformacja skali rastra na [0:1]\n",
    "arcpy.env.addOutputsToMap = False\n",
    "result5 = arcpy.sa.FuzzyMembership(extracted_by_mask5, arcpy.sa.FuzzyLinear(0, 0.1))\n",
    "result5.save(r'C:\\Users\\weron\\Desktop\\studia\\5sem\\analiza_przestrzenna\\swieradow\\new\\result\\kryt_5.tif')\n"
   ]
  },
  {
   "cell_type": "markdown",
   "metadata": {},
   "source": [
    "Kryterium nr. 6 / nachylenie stoków - maksymalnie 20% / dla 20 % wartość 0 im mniej tym zwiększa się wartość do 1"
   ]
  },
  {
   "cell_type": "code",
   "execution_count": 79,
   "metadata": {},
   "outputs": [],
   "source": [
    "arcpy.env.addOutputsToMap = False\n",
    "# obliczenie Slope\n",
    "nachylenie = arcpy.sa.Slope(raster, \"PERCENT_RISE\")"
   ]
  },
  {
   "cell_type": "code",
   "execution_count": 80,
   "metadata": {},
   "outputs": [],
   "source": [
    "# wyciecie terenu gminy z prostokata otaczajacego\n",
    "extracted_by_mask6 = arcpy.sa.ExtractByMask(nachylenie, granica, \"INSIDE\")"
   ]
  },
  {
   "cell_type": "code",
   "execution_count": 81,
   "metadata": {},
   "outputs": [],
   "source": [
    "# transformacja skali rastra na [0:1]\n",
    "arcpy.env.addOutputsToMap = False\n",
    "result6 = arcpy.sa.FuzzyMembership(extracted_by_mask6, arcpy.sa.FuzzyLinear(21, 18))\n",
    "result6.save(r'C:\\Users\\weron\\Desktop\\studia\\5sem\\analiza_przestrzenna\\swieradow\\new\\result\\kryt_6.tif')"
   ]
  },
  {
   "cell_type": "markdown",
   "metadata": {},
   "source": [
    "Kryterium nr. 7 / dostęp światła słonecznego / stoki południowe (SW-SE) mają wartość 1 a potem kryt rozmyte "
   ]
  },
  {
   "cell_type": "code",
   "execution_count": 82,
   "metadata": {},
   "outputs": [],
   "source": [
    "# obliczenie Aspect\n",
    "arcpy.env.addOutputsToMap = False\n",
    "naslonecznienie = arcpy.sa.Aspect(raster)"
   ]
  },
  {
   "cell_type": "code",
   "execution_count": 83,
   "metadata": {},
   "outputs": [],
   "source": [
    "# wyciecie terenu gminy z prostokata otaczajacego\n",
    "extracted_by_mask7 = arcpy.sa.ExtractByMask(naslonecznienie, granica, \"INSIDE\")"
   ]
  },
  {
   "cell_type": "code",
   "execution_count": 84,
   "metadata": {},
   "outputs": [],
   "source": [
    "result7_vol1 = arcpy.sa.FuzzyMembership(extracted_by_mask7, arcpy.sa.FuzzyLinear(90, 112.5))\n",
    "result7_vol2 = arcpy.sa.FuzzyMembership(extracted_by_mask7, arcpy.sa.FuzzyLinear(270, 247.5))\n",
    "temp = result7_vol1 * result7_vol2\n",
    "# funkcja Con aby dodac też płaskie tereny (input raster, jesli value = -1 to przyjmij wartos 1, jesli value != -1 to przyjmij wartosc z mnozenia, value)\n",
    "arcpy.env.addOutputsToMap = False\n",
    "result7 = arcpy.ia.Con(extracted_by_mask7, 1, temp, \"VALUE = -1\")\n",
    "result7.save(r'C:\\Users\\weron\\Desktop\\studia\\5sem\\analiza_przestrzenna\\swieradow\\new\\result\\kryt_7.tif')"
   ]
  },
  {
   "cell_type": "markdown",
   "metadata": {},
   "source": [
    "Kryterium nr. 8 / odleglosc od gazociagu / min 25 m kryterium rozmyte im dalej tym lepiej"
   ]
  },
  {
   "cell_type": "code",
   "execution_count": 85,
   "metadata": {},
   "outputs": [],
   "source": [
    "# obliczenie odleglosci euklidesowej\n",
    "arcpy.env.addOutputsToMap = False\n",
    "distance8 = arcpy.sa.EucDistance(gazociag)"
   ]
  },
  {
   "cell_type": "code",
   "execution_count": 86,
   "metadata": {},
   "outputs": [],
   "source": [
    "# wyciecie terenu gminy z prostokata otaczajacego\n",
    "extracted_by_mask8 = arcpy.sa.ExtractByMask(distance8, granica, \"INSIDE\")"
   ]
  },
  {
   "cell_type": "code",
   "execution_count": 87,
   "metadata": {},
   "outputs": [],
   "source": [
    "# transformacja skali rastra na [0:1]\n",
    "arcpy.env.addOutputsToMap =False\n",
    "result8_ostre = arcpy.sa.FuzzyMembership(extracted_by_mask8, arcpy.sa.FuzzyLinear(25, 25.1))\n",
    "result8_rozmyte = arcpy.sa.FuzzyMembership(extracted_by_mask8, arcpy.sa.FuzzyLinear(25, 55))\n",
    "result8_ostre.save(r'C:\\Users\\weron\\Desktop\\studia\\5sem\\analiza_przestrzenna\\swieradow\\new\\result\\kryt_8_ostre.tif')\n",
    "result8_rozmyte.save(r'C:\\Users\\weron\\Desktop\\studia\\5sem\\analiza_przestrzenna\\swieradow\\new\\result\\kryt_8_rozmyte.tif')"
   ]
  },
  {
   "cell_type": "markdown",
   "metadata": {},
   "source": [
    "Kryterium nr. 9  OSTRE/ użytkowanie terenu / gleby nieprzydatne [G,E,M,T,F,Fb,Fc,FG] reszta przydatna"
   ]
  },
  {
   "cell_type": "code",
   "execution_count": 88,
   "metadata": {},
   "outputs": [
    {
     "data": {
      "text/html": [
       "<div class='gpresult'><h2>Messages</h2><div id='messages' data-messages='[\"Start Time: środa, 11 stycznia 2023 15:26:49\",\"Succeeded at środa, 11 stycznia 2023 15:26:49 (Elapsed Time: 0,13 seconds)\"]' data-show='true'><div id = 'default' /></div></div>"
      ],
      "text/plain": [
       "<Result 'gleby_gm_swieradow'>"
      ]
     },
     "execution_count": 88,
     "metadata": {},
     "output_type": "execute_result"
    }
   ],
   "source": [
    "# ustawia wartości kolumny VALUE na 1 jeśli gleba jest poza tablicą gleb nieprzydatnych\n",
    "arcpy.management.CalculateField(\"gleby_gm_swieradow\", \"VALUE\", \"gleba(!TYP!)\", \"PYTHON3\", \"\"\"def gleba(x):\n",
    "    return x not in ['G', 'E', 'M', 'T', 'F', 'Fb', 'Fc', 'FG']\n",
    " \"\"\", \"SHORT\", \"NO_ENFORCE_DOMAINS\")"
   ]
  },
  {
   "cell_type": "code",
   "execution_count": 89,
   "metadata": {},
   "outputs": [],
   "source": [
    "arcpy.env.addOutputsToMap =False\n",
    "result9 = arcpy.conversion.PolygonToRaster(\"gleby_gm_swieradow\", 'VALUE', 'kryt_9.tif')"
   ]
  },
  {
   "cell_type": "code",
   "execution_count": 90,
   "metadata": {},
   "outputs": [],
   "source": [
    "arcpy.env.addOutputsToMap =False\n",
    "# łączenie kryteriów rozmytych, ta sama waga\n",
    "waga = 1/8\n",
    "result_rozmyte_equal = arcpy.ia.WeightedSum(arcpy.sa.WSTable([[result1, \"VALUE\", waga], [result2, \"VALUE\", waga], [result3, \"VALUE\", waga], [result4_rozmyty_jez, \"VALUE\", waga], [result4_rozmyty_rze, \"VALUE\", waga], [result6, \"VALUE\", waga], [result7, \"VALUE\", waga], [result8_rozmyte, \"VALUE\", waga]]))\n",
    "# łączenie kryteriów rozmytych, różne wagi\n",
    "result_rozmyte_diff = arcpy.ia.WeightedSum(arcpy.sa.WSTable([[result1, \"VALUE\", 0.20], [result2, \"VALUE\", 0.10], [result3, \"VALUE\", 0.15], [result4_rozmyty_jez, \"VALUE\", 0.10], [result4_rozmyty_rze, \"VALUE\", 0.10], [result6, \"VALUE\", 0.05], [result7, \"VALUE\", 0.10], [result8_rozmyte, \"VALUE\", 0.20]]))"
   ]
  },
  {
   "cell_type": "code",
   "execution_count": 91,
   "metadata": {},
   "outputs": [],
   "source": [
    "arcpy.env.addOutputsToMap =False\n",
    "# łączenie kryteriów ostrych\n",
    "result_ostry = arcpy.sa.FuzzyOverlay([rzeki_ostre, jeziora_ostre, result5, result8_ostre, result9])"
   ]
  },
  {
   "cell_type": "code",
   "execution_count": 92,
   "metadata": {},
   "outputs": [],
   "source": [
    "# łączenie kryteriów aby otrzymac raster wynikowy\n",
    "result_equal = result_ostry * result_rozmyte_equal\n",
    "result_equal.save(r'C:\\Users\\weron\\Desktop\\studia\\5sem\\analiza_przestrzenna\\swieradow\\new\\result\\wynik_rowne.tif')\n",
    "\n",
    "result_diff = result_ostry * result_rozmyte_diff\n",
    "result_diff.save(r'C:\\Users\\weron\\Desktop\\studia\\5sem\\analiza_przestrzenna\\swieradow\\new\\result\\wynik_rozne.tif')"
   ]
  },
  {
   "cell_type": "code",
   "execution_count": 94,
   "metadata": {},
   "outputs": [],
   "source": [
    "# merge warstw pokrycia terenu, aby utworzyć mapę kosztów\n",
    "tab = ['PL.PZGiK.337.0210__OT_PTZB_A', 'PL.PZGiK.337.0210__OT_PTWZ_A', 'PL.PZGiK.337.0210__OT_PTWP_A', 'PL.PZGiK.337.0210__OT_PTUT_A', 'PL.PZGiK.337.0210__OT_PTTR_A', 'PL.PZGiK.337.0210__OT_PTSO_A', 'PL.PZGiK.337.0210__OT_PTRK_A', 'PL.PZGiK.337.0210__OT_PTPL_A', 'PL.PZGiK.337.0210__OT_PTNZ_A', 'PL.PZGiK.337.0210__OT_PTLZ_A', 'PL.PZGiK.337.0210__OT_PTKM_A', 'PL.PZGiK.337.0210__OT_PTGN_A']\n",
    "pokrycie_terenu = arcpy.management.Merge(tab, 'pokrycie_terenu')"
   ]
  },
  {
   "cell_type": "code",
   "execution_count": 95,
   "metadata": {},
   "outputs": [
    {
     "data": {
      "text/html": [
       "<div class='gpresult'><h2>Messages</h2><div id='messages' data-messages='[\"Start Time: środa, 11 stycznia 2023 15:27:57\",\"Adding koszt to pokrycie_terenu...\",\"Succeeded at środa, 11 stycznia 2023 15:27:57 (Elapsed Time: 0,45 seconds)\"]' data-show='true'><div id = 'default' /></div></div>"
      ],
      "text/plain": [
       "<Result 'C:\\\\Users\\\\weron\\\\Desktop\\\\studia\\\\5sem\\\\analiza_przestrzenna\\\\swieradow\\\\new\\\\result\\\\pokrycie_terenu'>"
      ]
     },
     "execution_count": 95,
     "metadata": {},
     "output_type": "execute_result"
    }
   ],
   "source": [
    "# tworzenie mapy kosztow\n",
    "arcpy.management.CalculateField(\"pokrycie_terenu\", \"koszt\", \"temp(!X_KOD!)\", \"PYTHON3\", \"\"\"def temp(kod):\n",
    "    dict = {'PTWP01':0,\n",
    "    'PTWP02':200,\n",
    "    'PTWP03':0,\n",
    "    'PTZB01':200,\n",
    "    'PTZB02':100,\n",
    "    'PTZB03':200,\n",
    "    'PTZB04':200,\n",
    "    'PTZB05':50,\n",
    "    'PTLZ01':100,\n",
    "    'PTLZ02':50,\n",
    "    'PTLZ03':50,\n",
    "    'PTRK':15,\n",
    "    'PTRK02':15,\n",
    "    'PTUT01':0,\n",
    "    'PTUT02':90,\n",
    "    'PTUT03':100,\n",
    "    'PTUT04':20,\n",
    "    'PTUT05':20,\n",
    "    'PTTR01':20,\n",
    "    'PTTR02':1,\n",
    "    'PTKM01':100,\n",
    "    'PTKM02':200,\n",
    "    'PTKM03':0,\n",
    "    'PTKM04':0,\n",
    "    'PTGN01':1,\n",
    "    'PTGN02':1,\n",
    "    'PTGN03':1,\n",
    "    'PTGN04':1,\n",
    "    'PTPL01':50,\n",
    "    'PTSO01':0,\n",
    "    'PTSO02':0,\n",
    "    'PTWZ01':0,\n",
    "    'PTWZ02':0,\n",
    "    'PTNZ01':150,\n",
    "    'PTNZ02':150}\n",
    "\n",
    "    \n",
    "    return dict[kod]\n",
    "\n",
    "\"\"\", \"SHORT\", \"NO_ENFORCE_DOMAINS\")"
   ]
  },
  {
   "cell_type": "code",
   "execution_count": 96,
   "metadata": {},
   "outputs": [],
   "source": [
    "arcpy.management.Delete(r'C:\\Users\\weron\\Desktop\\studia\\5sem\\analiza_przestrzenna\\swieradow\\new\\result\\mapa_kosztow')\n",
    "mapa_kosztow = arcpy.conversion.PolygonToRaster(pokrycie_terenu, \"koszt\", 'mapa_kosztow')"
   ]
  },
  {
   "cell_type": "code",
   "execution_count": 97,
   "metadata": {},
   "outputs": [],
   "source": [
    "# reklasyfikacja aby użyć table intersection\n",
    "reclass_diff = arcpy.sa.Reclassify(result_diff, \"VALUE\", arcpy.sa.RemapRange([[0,0.75,0],[0.75,result_diff.maximum,1]]))\n",
    "reclass_equal = arcpy.sa.Reclassify(result_equal, \"VALUE\", arcpy.sa.RemapRange([[0,0.75,0],[0.75,result_equal.maximum,1]]))"
   ]
  },
  {
   "cell_type": "code",
   "execution_count": 98,
   "metadata": {},
   "outputs": [],
   "source": [
    "arcpy.env.addOutputsToMap = False\n",
    "# zamiana rastra na postać wektorową bo table intersection przyjumuje tylko dane wektorowe\n",
    "polygon_diff = arcpy.conversion.RasterToPolygon(reclass_diff, 'polygon_diff', 'NO_SIMPLIFY')\n",
    "polygon_equal = arcpy.conversion.RasterToPolygon(reclass_equal, 'polygon_equal', 'NO_SIMPLIFY')"
   ]
  },
  {
   "cell_type": "code",
   "execution_count": 99,
   "metadata": {},
   "outputs": [
    {
     "data": {
      "text/html": [
       "<div class='gpresult'><h2>Messages</h2><div id='messages' data-messages='[\"Start Time: środa, 11 stycznia 2023 15:28:52\",\"Succeeded at środa, 11 stycznia 2023 15:28:53 (Elapsed Time: 0,07 seconds)\"]' data-show='true'><div id = 'default' /></div></div>"
      ],
      "text/plain": [
       "<Result 'select_equal'>"
      ]
     },
     "execution_count": 99,
     "metadata": {},
     "output_type": "execute_result"
    }
   ],
   "source": [
    "arcpy.env.addOutputsToMap = True\n",
    "# selekcja warstw wektorowych z wartoscia 1\n",
    "select_diff = arcpy.management.SelectLayerByAttribute(polygon_diff, \"NEW_SELECTION\", \"gridcode = 1\", None)\n",
    "arcpy.management.CopyFeatures(select_diff, r\"C:\\Users\\weron\\Desktop\\studia\\5sem\\analiza_przestrzenna\\swieradow\\new\\result\\select_diff\", '', None, None, None)\n",
    "select_diff = 'select_diff'\n",
    "arcpy.SelectLayerByAttribute_management(select_diff, \"CLEAR_SELECTION\")\n",
    "\n",
    "select_equal = arcpy.management.SelectLayerByAttribute(polygon_equal, \"NEW_SELECTION\", \"gridcode = 1\", None)\n",
    "arcpy.management.CopyFeatures(select_diff, r\"C:\\Users\\weron\\Desktop\\studia\\5sem\\analiza_przestrzenna\\swieradow\\new\\result\\select_equal\", '', None, None, None)\n",
    "select_equal = 'select_equal'\n",
    "arcpy.SelectLayerByAttribute_management(select_equal, \"CLEAR_SELECTION\")"
   ]
  },
  {
   "cell_type": "code",
   "execution_count": 100,
   "metadata": {
    "scrolled": true
   },
   "outputs": [
    {
     "data": {
      "text/html": [
       "<div class='gpresult'><h2>Messages</h2><div id='messages' data-messages='[\"Start Time: środa, 11 stycznia 2023 15:28:59\",\"Reading Features...\",\"Cracking Features...\",\"Assembling Features...\",\"Succeeded at środa, 11 stycznia 2023 15:29:01 (Elapsed Time: 1,89 seconds)\"]' data-show='true'><div id = 'default' /></div></div>"
      ],
      "text/plain": [
       "<Result 'C:\\\\Users\\\\weron\\\\Desktop\\\\studia\\\\5sem\\\\analiza_przestrzenna\\\\swieradow\\\\new\\\\MyProject1.gdb\\\\table_equal'>"
      ]
     },
     "execution_count": 100,
     "metadata": {},
     "output_type": "execute_result"
    }
   ],
   "source": [
    "# tabulate intersection\n",
    "arcpy.management.Delete(r'C:\\Users\\weron\\Desktop\\studia\\5sem\\analiza_przestrzenna\\swieradow\\new\\MyProject1.gdb\\table_diff')\n",
    "arcpy.analysis.TabulateIntersection(dzialki_diff, \"ID_DZIALKI\", select_diff, r\"C:\\Users\\weron\\Desktop\\studia\\5sem\\analiza_przestrzenna\\swieradow\\new\\MyProject1.gdb\\table_diff\")\n",
    "\n",
    "arcpy.management.Delete(r'C:\\Users\\weron\\Desktop\\studia\\5sem\\analiza_przestrzenna\\swieradow\\new\\MyProject1.gdb\\table_equal')\n",
    "arcpy.analysis.TabulateIntersection(dzialki_equal, \"ID_DZIALKI\", select_equal, r\"C:\\Users\\weron\\Desktop\\studia\\5sem\\analiza_przestrzenna\\swieradow\\new\\MyProject1.gdb\\table_equal\")"
   ]
  },
  {
   "cell_type": "code",
   "execution_count": 101,
   "metadata": {},
   "outputs": [
    {
     "data": {
      "text/html": [
       "<div class='gpresult'><h2>Messages</h2><div id='messages' data-messages='[\"Start Time: środa, 11 stycznia 2023 15:29:05\",\"Succeeded at środa, 11 stycznia 2023 15:29:05 (Elapsed Time: 0,30 seconds)\"]' data-show='true'><div id = 'default' /></div></div>"
      ],
      "text/plain": [
       "<Result 'dzialki_swieradow_diff'>"
      ]
     },
     "execution_count": 101,
     "metadata": {},
     "output_type": "execute_result"
    }
   ],
   "source": [
    "arcpy.management.AddJoin(dzialki_diff, \"ID_DZIALKI\", \"table_diff\", \"ID_DZIALKI\")\n"
   ]
  },
  {
   "cell_type": "code",
   "execution_count": 102,
   "metadata": {},
   "outputs": [
    {
     "data": {
      "text/html": [
       "<div class='gpresult'><h2>Messages</h2><div id='messages' data-messages='[\"Start Time: środa, 11 stycznia 2023 15:29:05\",\"Succeeded at środa, 11 stycznia 2023 15:29:06 (Elapsed Time: 0,23 seconds)\"]' data-show='true'><div id = 'default' /></div></div>"
      ],
      "text/plain": [
       "<Result 'dzialki_swieradow_equal'>"
      ]
     },
     "execution_count": 102,
     "metadata": {},
     "output_type": "execute_result"
    }
   ],
   "source": [
    "arcpy.management.AddJoin(dzialki_equal, \"ID_DZIALKI\", \"table_equal\", \"ID_DZIALKI\")"
   ]
  },
  {
   "cell_type": "code",
   "execution_count": 103,
   "metadata": {},
   "outputs": [
    {
     "data": {
      "text/html": [
       "<div class='gpresult'><h2>Messages</h2><div id='messages' data-messages='[\"Start Time: środa, 11 stycznia 2023 15:29:13\",\"Succeeded at środa, 11 stycznia 2023 15:29:14 (Elapsed Time: 0,03 seconds)\"]' data-show='true'><div id = 'default' /></div></div>"
      ],
      "text/plain": [
       "<Result 'dzialki_70_equal_Layer5'>"
      ]
     },
     "execution_count": 103,
     "metadata": {},
     "output_type": "execute_result"
    }
   ],
   "source": [
    "# wybor dzialek ktorych pokrycie wynosi wiecej niz 70%\n",
    "arcpy.env.addOutputsToMap = False\n",
    "dzialki_70_diff = arcpy.management.SelectLayerByAttribute(dzialki_diff, \"NEW_SELECTION\", \"PERCENTAGE >= 70\", None)\n",
    "arcpy.management.CopyFeatures(dzialki_70_diff, r\"C:\\Users\\weron\\Desktop\\studia\\5sem\\analiza_przestrzenna\\swieradow\\new\\result\\dzialki_70_diff\", '', None, None, None)\n",
    "dzialki_70_diff = 'dzialki_70_diff'\n",
    "arcpy.SelectLayerByAttribute_management(dzialki_70_diff, \"CLEAR_SELECTION\")\n",
    "\n",
    "dzialki_70_equal = arcpy.management.SelectLayerByAttribute(dzialki_equal, \"NEW_SELECTION\", \"PERCENTAGE >= 70\", None)\n",
    "arcpy.management.CopyFeatures(dzialki_70_equal, r\"C:\\Users\\weron\\Desktop\\studia\\5sem\\analiza_przestrzenna\\swieradow\\new\\result\\dzialki_70_equal\", '', None, None, None)\n",
    "dzialki_70_equal = 'dzialki_70_equal'\n",
    "arcpy.SelectLayerByAttribute_management(dzialki_70_equal, \"CLEAR_SELECTION\")"
   ]
  },
  {
   "cell_type": "code",
   "execution_count": 104,
   "metadata": {},
   "outputs": [],
   "source": [
    "# rozcieranie granic pomiędzy dzialkami\n",
    "dissolve_diff = arcpy.management.Dissolve(dzialki_70_diff, r\"C:\\Users\\weron\\Desktop\\studia\\5sem\\analiza_przestrzenna\\swieradow\\new\\MyProject1.gdb\\dissolve_diff\", None, None,\"SINGLE_PART\")\n",
    "dissolve_equal = arcpy.management.Dissolve(dzialki_70_equal, r\"C:\\Users\\weron\\Desktop\\studia\\5sem\\analiza_przestrzenna\\swieradow\\new\\MyProject1.gdb\\dissolve_equal\", None, None,\"SINGLE_PART\")"
   ]
  },
  {
   "cell_type": "code",
   "execution_count": 105,
   "metadata": {},
   "outputs": [
    {
     "data": {
      "text/html": [
       "<div class='gpresult'><h2>Messages</h2><div id='messages' data-messages='[\"Start Time: środa, 11 stycznia 2023 15:29:21\",\"Succeeded at środa, 11 stycznia 2023 15:29:21 (Elapsed Time: 0,09 seconds)\"]' data-show='true'><div id = 'default' /></div></div>"
      ],
      "text/plain": [
       "<Result 'selected_area_equal'>"
      ]
     },
     "execution_count": 105,
     "metadata": {},
     "output_type": "execute_result"
    }
   ],
   "source": [
    "arcpy.env.addOutputsToMap = True\n",
    "selected_area_diff = arcpy.management.SelectLayerByAttribute(dissolve_diff, \"NEW_SELECTION\", \"Shape_Area >= 10000\", None)\n",
    "arcpy.management.CopyFeatures(selected_area_diff, r\"C:\\Users\\weron\\Desktop\\studia\\5sem\\analiza_przestrzenna\\swieradow\\new\\result\\selected_area_diff\", '', None, None, None)\n",
    "selected_area_diff = 'selected_area_diff'\n",
    "arcpy.SelectLayerByAttribute_management(selected_area_diff, \"CLEAR_SELECTION\")\n",
    "\n",
    "selected_area_equal = arcpy.management.SelectLayerByAttribute(dissolve_equal, \"NEW_SELECTION\", \"Shape_Area >= 10000\", None)\n",
    "arcpy.management.CopyFeatures(selected_area_equal, r\"C:\\Users\\weron\\Desktop\\studia\\5sem\\analiza_przestrzenna\\swieradow\\new\\result\\selected_area_equal\", '', None, None, None)\n",
    "selected_area_equal = 'selected_area_equal'\n",
    "arcpy.SelectLayerByAttribute_management(selected_area_equal, \"CLEAR_SELECTION\")"
   ]
  },
  {
   "cell_type": "code",
   "execution_count": 106,
   "metadata": {},
   "outputs": [
    {
     "data": {
      "text/html": [
       "<div class='gpresult'><h2>Messages</h2><div id='messages' data-messages='[\"Start Time: środa, 11 stycznia 2023 15:29:22\",\"Adding ksztalt to selected_area_diff...\",\"Succeeded at środa, 11 stycznia 2023 15:29:22 (Elapsed Time: 0,09 seconds)\"]' data-show='true'><div id = 'default' /></div></div>"
      ],
      "text/plain": [
       "<Result 'selected_area_diff'>"
      ]
     },
     "execution_count": 106,
     "metadata": {},
     "output_type": "execute_result"
    }
   ],
   "source": [
    "# obliczenie współczynnika kształtu dla działek z równą wagą\n",
    "arcpy.management.CalculateField(selected_area_equal, \"ksztalt\", \"licz(!Shape_Area!,!Shape_Leng!)\", \"PYTHON3\", \"\"\"def licz(pole, obwod):\n",
    "     r = obwod / (2 * math.pi)\n",
    "     pole_kola = math.pi * r ** 2\n",
    "     wskaznik = math.sqrt(pole/pole_kola)\n",
    "     return wskaznik\"\"\", \"DOUBLE\", \"NO_ENFORCE_DOMAINS\")\n",
    "\n",
    "\n",
    "# obliczenie współczynnika kształtu dla działek z różną wagą\n",
    "arcpy.management.CalculateField(selected_area_diff, \"ksztalt\", \"licz(!Shape_Area!,!Shape_Leng!)\", \"PYTHON3\", \"\"\"def licz(pole, obwod):\n",
    "     r = obwod / (2 * math.pi)\n",
    "     pole_kola = math.pi * r ** 2\n",
    "     wskaznik = math.sqrt(pole/pole_kola)\n",
    "     return wskaznik\"\"\", \"DOUBLE\", \"NO_ENFORCE_DOMAINS\")"
   ]
  },
  {
   "cell_type": "code",
   "execution_count": 107,
   "metadata": {},
   "outputs": [],
   "source": [
    "# reklasyfikacja mapy kosztow, która nie ma wartości 0, tylko no data\n",
    "mapa_kosztow_ok = arcpy.sa.Reclassify(mapa_kosztow, \"VALUE\", arcpy.sa.RemapValue([[0,'NODATA'],[1,1],[15,15],[20,20],[50,50],[100,100],[150,150]]))"
   ]
  },
  {
   "cell_type": "code",
   "execution_count": 108,
   "metadata": {},
   "outputs": [],
   "source": [
    "# mapa kosztow skumulowanych i mapa kierunkow\n",
    "arcpy.env.addOutputsToMap = False\n",
    "cost_distance_diff = arcpy.sa.CostDistance(selected_area_diff, mapa_kosztow_ok, None, r\"C:\\Users\\weron\\Desktop\\studia\\5sem\\analiza_przestrzenna\\swieradow\\new\\result\\kierunki_diff.tif\", None, None, None, None, ''); \n",
    "cost_distance_diff.save(r\"C:\\Users\\weron\\Desktop\\studia\\5sem\\analiza_przestrzenna\\swieradow\\new\\result\\mapa_kosztow_skumulowanych_diff.tif\")"
   ]
  },
  {
   "cell_type": "code",
   "execution_count": 109,
   "metadata": {},
   "outputs": [],
   "source": [
    "cost_distance_equal = arcpy.sa.CostDistance(selected_area_equal, mapa_kosztow_ok, None, r\"C:\\Users\\weron\\Desktop\\studia\\5sem\\analiza_przestrzenna\\swieradow\\new\\result\\kierun_equal.tif\", None, None, None, None, ''); \n",
    "cost_distance_equal.save(r\"C:\\Users\\weron\\Desktop\\studia\\5sem\\analiza_przestrzenna\\swieradow\\new\\result\\mapa_kosztow_skumulowanych_equal.tif\")"
   ]
  },
  {
   "cell_type": "code",
   "execution_count": 110,
   "metadata": {},
   "outputs": [],
   "source": [
    "# przyłącze dla równych wag\n",
    "arcpy.env.addOutputsToMap = True\n",
    "przylacze_equal = arcpy.sa.CostPath(gazociag, cost_distance_equal, r\"C:\\Users\\weron\\Desktop\\studia\\5sem\\analiza_przestrzenna\\swieradow\\new\\result\\kierun_equal.tif\", \"BEST_SINGLE\", \"Id\", \"INPUT_RANGE\"); \n",
    "przylacze_equal.save(r\"C:\\Users\\weron\\Desktop\\studia\\5sem\\analiza_przestrzenna\\swieradow\\new\\result\\przylacze_equal.tif\")"
   ]
  },
  {
   "cell_type": "code",
   "execution_count": 111,
   "metadata": {},
   "outputs": [],
   "source": [
    "# przyłącze dla różnych wag\n",
    "przylacze_diff = arcpy.sa.CostPath(gazociag, cost_distance_diff, r\"C:\\Users\\weron\\Desktop\\studia\\5sem\\analiza_przestrzenna\\swieradow\\new\\result\\kierunki_diff.tif\", \"BEST_SINGLE\", \"Id\", \"INPUT_RANGE\"); \n",
    "przylacze_diff.save(r\"C:\\Users\\weron\\Desktop\\studia\\5sem\\analiza_przestrzenna\\swieradow\\new\\result\\przylacze_diff.tif\")"
   ]
  },
  {
   "cell_type": "code",
   "execution_count": null,
   "metadata": {},
   "outputs": [],
   "source": [
    "# ostateczny wybór działki z najbardziej zwartym kształtem (największy współczynnik kształtu)\n",
    "final_wynik_diff = arcpy.management.SelectLayerByAttribute(selected_area_diff, \"NEW_SELECTION\", \"ksztalt = (SELECT MAX(ksztalt) FROM selected_area_diff)\", None)\n",
    "arcpy.management.CopyFeatures(final_wynik_diff, r\"C:\\Users\\weron\\Desktop\\studia\\5sem\\analiza_przestrzenna\\swieradow\\new\\result\\final_wynik_diff\", '', None, None, None)\n",
    "final_wynik_equal = arcpy.management.SelectLayerByAttribute(selected_area_equal, \"NEW_SELECTION\", \"ksztalt = (SELECT MAX(ksztalt) FROM selected_area_equal)\", None)\n",
    "arcpy.management.CopyFeatures(final_wynik_equal, r\"C:\\Users\\weron\\Desktop\\studia\\5sem\\analiza_przestrzenna\\swieradow\\new\\result\\final_wynik_equal\", '', None, None, None)"
   ]
  }
 ],
 "metadata": {
  "kernelspec": {
   "display_name": "ArcGISPro",
   "language": "Python",
   "name": "python3"
  },
  "language_info": {
   "file_extension": ".py",
   "name": "python",
   "version": "3"
  }
 },
 "nbformat": 4,
 "nbformat_minor": 2
}
